{
 "cells": [
  {
   "cell_type": "code",
   "execution_count": 1,
   "id": "8142aaa8-6052-4215-a14a-79af61cfabd3",
   "metadata": {},
   "outputs": [],
   "source": [
    "import pandas as pd\n",
    "import numpy as np\n",
    "import matplotlib.pyplot as plt\n",
    "import seaborn as sns"
   ]
  },
  {
   "cell_type": "code",
   "execution_count": 2,
   "id": "ede71dde-6e48-4b9f-b270-19aefb1d9d06",
   "metadata": {},
   "outputs": [],
   "source": [
    "df = pd.read_csv(\"../../data/raw/mex-a3t/train_aggressiveness.csv\")"
   ]
  },
  {
   "cell_type": "code",
   "execution_count": 3,
   "id": "a34685f1-6f6e-4d60-8b3a-3b09c1af6252",
   "metadata": {},
   "outputs": [
    {
     "data": {
      "text/html": [
       "<div>\n",
       "<style scoped>\n",
       "    .dataframe tbody tr th:only-of-type {\n",
       "        vertical-align: middle;\n",
       "    }\n",
       "\n",
       "    .dataframe tbody tr th {\n",
       "        vertical-align: top;\n",
       "    }\n",
       "\n",
       "    .dataframe thead th {\n",
       "        text-align: right;\n",
       "    }\n",
       "</style>\n",
       "<table border=\"1\" class=\"dataframe\">\n",
       "  <thead>\n",
       "    <tr style=\"text-align: right;\">\n",
       "      <th></th>\n",
       "      <th>Id</th>\n",
       "      <th>Category</th>\n",
       "      <th>Text</th>\n",
       "    </tr>\n",
       "  </thead>\n",
       "  <tbody>\n",
       "    <tr>\n",
       "      <th>0</th>\n",
       "      <td>1</td>\n",
       "      <td>0</td>\n",
       "      <td>Soy el Clint Eastwood de los Puentes de Madiso...</td>\n",
       "    </tr>\n",
       "    <tr>\n",
       "      <th>1</th>\n",
       "      <td>2</td>\n",
       "      <td>0</td>\n",
       "      <td>Actualmente ya pasó de moda la pucha joto, aho...</td>\n",
       "    </tr>\n",
       "    <tr>\n",
       "      <th>2</th>\n",
       "      <td>3</td>\n",
       "      <td>0</td>\n",
       "      <td>¿Es cierto esto? Y no me refiero a lo que dijo...</td>\n",
       "    </tr>\n",
       "    <tr>\n",
       "      <th>3</th>\n",
       "      <td>4</td>\n",
       "      <td>0</td>\n",
       "      <td>Vuela pega y esquiva... la neta está de la ver...</td>\n",
       "    </tr>\n",
       "    <tr>\n",
       "      <th>4</th>\n",
       "      <td>5</td>\n",
       "      <td>0</td>\n",
       "      <td>Mejor puto disfraz de la noche!!!! 👊👊👊Por terc...</td>\n",
       "    </tr>\n",
       "  </tbody>\n",
       "</table>\n",
       "</div>"
      ],
      "text/plain": [
       "   Id  Category                                               Text\n",
       "0   1         0  Soy el Clint Eastwood de los Puentes de Madiso...\n",
       "1   2         0  Actualmente ya pasó de moda la pucha joto, aho...\n",
       "2   3         0  ¿Es cierto esto? Y no me refiero a lo que dijo...\n",
       "3   4         0  Vuela pega y esquiva... la neta está de la ver...\n",
       "4   5         0  Mejor puto disfraz de la noche!!!! 👊👊👊Por terc..."
      ]
     },
     "execution_count": 3,
     "metadata": {},
     "output_type": "execute_result"
    }
   ],
   "source": [
    "df.head()"
   ]
  },
  {
   "cell_type": "code",
   "execution_count": 6,
   "id": "67a3a921-1fc7-43d2-a270-0bae6b00e424",
   "metadata": {},
   "outputs": [],
   "source": [
    "df = df.drop(\"Id\", axis=1)"
   ]
  },
  {
   "cell_type": "code",
   "execution_count": 7,
   "id": "80dd23f8-1908-4104-b417-57311cea27e6",
   "metadata": {},
   "outputs": [
    {
     "data": {
      "text/html": [
       "<div>\n",
       "<style scoped>\n",
       "    .dataframe tbody tr th:only-of-type {\n",
       "        vertical-align: middle;\n",
       "    }\n",
       "\n",
       "    .dataframe tbody tr th {\n",
       "        vertical-align: top;\n",
       "    }\n",
       "\n",
       "    .dataframe thead th {\n",
       "        text-align: right;\n",
       "    }\n",
       "</style>\n",
       "<table border=\"1\" class=\"dataframe\">\n",
       "  <thead>\n",
       "    <tr style=\"text-align: right;\">\n",
       "      <th></th>\n",
       "      <th>Category</th>\n",
       "      <th>Text</th>\n",
       "    </tr>\n",
       "  </thead>\n",
       "  <tbody>\n",
       "    <tr>\n",
       "      <th>0</th>\n",
       "      <td>0</td>\n",
       "      <td>Soy el Clint Eastwood de los Puentes de Madiso...</td>\n",
       "    </tr>\n",
       "    <tr>\n",
       "      <th>1</th>\n",
       "      <td>0</td>\n",
       "      <td>Actualmente ya pasó de moda la pucha joto, aho...</td>\n",
       "    </tr>\n",
       "    <tr>\n",
       "      <th>2</th>\n",
       "      <td>0</td>\n",
       "      <td>¿Es cierto esto? Y no me refiero a lo que dijo...</td>\n",
       "    </tr>\n",
       "    <tr>\n",
       "      <th>3</th>\n",
       "      <td>0</td>\n",
       "      <td>Vuela pega y esquiva... la neta está de la ver...</td>\n",
       "    </tr>\n",
       "    <tr>\n",
       "      <th>4</th>\n",
       "      <td>0</td>\n",
       "      <td>Mejor puto disfraz de la noche!!!! 👊👊👊Por terc...</td>\n",
       "    </tr>\n",
       "  </tbody>\n",
       "</table>\n",
       "</div>"
      ],
      "text/plain": [
       "   Category                                               Text\n",
       "0         0  Soy el Clint Eastwood de los Puentes de Madiso...\n",
       "1         0  Actualmente ya pasó de moda la pucha joto, aho...\n",
       "2         0  ¿Es cierto esto? Y no me refiero a lo que dijo...\n",
       "3         0  Vuela pega y esquiva... la neta está de la ver...\n",
       "4         0  Mejor puto disfraz de la noche!!!! 👊👊👊Por terc..."
      ]
     },
     "execution_count": 7,
     "metadata": {},
     "output_type": "execute_result"
    }
   ],
   "source": [
    "df.head()"
   ]
  },
  {
   "cell_type": "code",
   "execution_count": 9,
   "id": "a15cae2a-54c5-4469-a1cc-f4fceb9fcc49",
   "metadata": {},
   "outputs": [
    {
     "data": {
      "text/plain": [
       "<AxesSubplot:xlabel='Category', ylabel='count'>"
      ]
     },
     "execution_count": 9,
     "metadata": {},
     "output_type": "execute_result"
    },
    {
     "data": {
      "image/png": "[encoded data removed]",
      "text/plain": [
       "<Figure size 432x288 with 1 Axes>"
      ]
     },
     "metadata": {
      "needs_background": "light"
     },
     "output_type": "display_data"
    }
   ],
   "source": [
    "# How balanced is the dataset?\n",
    "\n",
    "sns.countplot(x=\"Category\", data=df)"
   ]
  },
  {
   "cell_type": "markdown",
   "id": "d2875de0-41fe-4b14-92d8-bceab00a37c4",
   "metadata": {},
   "source": [
    "## Lenght of the Tweets"
   ]
  },
  {
   "cell_type": "code",
   "execution_count": 11,
   "id": "7e64a73b-260e-4b13-800f-e530d91a4f9a",
   "metadata": {},
   "outputs": [],
   "source": [
    "df[\"length\"] = df.Text.str.len()"
   ]
  },
  {
   "cell_type": "code",
   "execution_count": 13,
   "id": "ac874507-7078-4b9c-bcf6-95c79e1b3395",
   "metadata": {},
   "outputs": [
    {
     "data": {
      "text/plain": [
       "Text(0, 0.5, 'Count')"
      ]
     },
     "execution_count": 13,
     "metadata": {},
     "output_type": "execute_result"
    },
    {
     "data": {
      "image/png": "[encoded data removed]",
      "text/plain": [
       "<Figure size 432x288 with 1 Axes>"
      ]
     },
     "metadata": {
      "needs_background": "light"
     },
     "output_type": "display_data"
    }
   ],
   "source": [
    "plt.hist(df.length, bins=20, rwidth=0.8)\n",
    "plt.xlabel('Length of the text')\n",
    "plt.ylabel('Count')"
   ]
  },
  {
   "cell_type": "code",
   "execution_count": 14,
   "id": "e1dbdf6d-a18f-418f-89d0-830d61fefa51",
   "metadata": {},
   "outputs": [
    {
     "data": {
      "text/html": [
       "<div>\n",
       "<style scoped>\n",
       "    .dataframe tbody tr th:only-of-type {\n",
       "        vertical-align: middle;\n",
       "    }\n",
       "\n",
       "    .dataframe tbody tr th {\n",
       "        vertical-align: top;\n",
       "    }\n",
       "\n",
       "    .dataframe thead th {\n",
       "        text-align: right;\n",
       "    }\n",
       "</style>\n",
       "<table border=\"1\" class=\"dataframe\">\n",
       "  <thead>\n",
       "    <tr style=\"text-align: right;\">\n",
       "      <th></th>\n",
       "      <th>Category</th>\n",
       "      <th>Text</th>\n",
       "      <th>length</th>\n",
       "    </tr>\n",
       "  </thead>\n",
       "  <tbody>\n",
       "    <tr>\n",
       "      <th>1711</th>\n",
       "      <td>1</td>\n",
       "      <td>@USUARIO @USUARIO Callate el hocico puta, ya ...</td>\n",
       "      <td>300</td>\n",
       "    </tr>\n",
       "    <tr>\n",
       "      <th>2718</th>\n",
       "      <td>1</td>\n",
       "      <td>Es si no sabia que habían dado mas caracteres ...</td>\n",
       "      <td>208</td>\n",
       "    </tr>\n",
       "    <tr>\n",
       "      <th>3422</th>\n",
       "      <td>1</td>\n",
       "      <td>Ahora recuerdo por que no iba al cine en dias ...</td>\n",
       "      <td>201</td>\n",
       "    </tr>\n",
       "    <tr>\n",
       "      <th>4334</th>\n",
       "      <td>1</td>\n",
       "      <td>Putos los que no fueron a ayudar en el temblor...</td>\n",
       "      <td>204</td>\n",
       "    </tr>\n",
       "  </tbody>\n",
       "</table>\n",
       "</div>"
      ],
      "text/plain": [
       "      Category                                               Text  length\n",
       "1711         1   @USUARIO @USUARIO Callate el hocico puta, ya ...     300\n",
       "2718         1  Es si no sabia que habían dado mas caracteres ...     208\n",
       "3422         1  Ahora recuerdo por que no iba al cine en dias ...     201\n",
       "4334         1  Putos los que no fueron a ayudar en el temblor...     204"
      ]
     },
     "execution_count": 14,
     "metadata": {},
     "output_type": "execute_result"
    }
   ],
   "source": [
    "df[df.length > 200]"
   ]
  },
  {
   "cell_type": "code",
   "execution_count": 23,
   "id": "ba48852d-756a-43e2-8e62-be3fbee1fd05",
   "metadata": {},
   "outputs": [
    {
     "data": {
      "image/png": "[encoded data removed]",
      "text/plain": [
       "<Figure size 432x288 with 1 Axes>"
      ]
     },
     "metadata": {
      "needs_background": "light"
     },
     "output_type": "display_data"
    }
   ],
   "source": [
    "hate = df[df.Category == 1]\n",
    "no_hate = df[df.Category == 0]\n",
    "\n",
    "plt.hist(no_hate.length, bins=20, rwidth=0.8, label=\"No hate\")\n",
    "plt.hist(hate.length, bins=20, rwidth=0.8, label=\"Hate\", alpha=0.5, color='red')\n",
    "plt.xlabel('Length of the text')\n",
    "plt.ylabel('Count')\n",
    "plt.legend(loc=\"upper right\");\n"
   ]
  },
  {
   "cell_type": "markdown",
   "id": "63359f9b-00ea-4343-a6d4-8427ac06abb9",
   "metadata": {},
   "source": [
    "## Word count"
   ]
  },
  {
   "cell_type": "code",
   "execution_count": 27,
   "id": "9665043b-4fea-40c8-914c-51a497ae409a",
   "metadata": {},
   "outputs": [],
   "source": [
    "df['totalwords'] = df['Text'].str.split().str.len()\n",
    "\n",
    "hate = df[df.Category == 1]\n",
    "no_hate = df[df.Category == 0]"
   ]
  },
  {
   "cell_type": "code",
   "execution_count": 28,
   "id": "0ede3df3-e88d-474b-836e-93f0adda6c49",
   "metadata": {},
   "outputs": [
    {
     "data": {
      "image/png": "[encoded data removed]",
      "text/plain": [
       "<Figure size 432x288 with 1 Axes>"
      ]
     },
     "metadata": {
      "needs_background": "light"
     },
     "output_type": "display_data"
    }
   ],
   "source": [
    "plt.hist(no_hate.totalwords, bins=20, rwidth=0.8, label=\"No hate\")\n",
    "plt.hist(hate.totalwords, bins=20, rwidth=0.8, label=\"Hate\", alpha=0.5, color='red')\n",
    "plt.xlabel('Length of the text')\n",
    "plt.ylabel('Count')\n",
    "plt.legend(loc=\"upper right\");\n"
   ]
  },
  {
   "cell_type": "code",
   "execution_count": null,
   "id": "cc65bffc-12b5-4501-a62e-b6df2f74141d",
   "metadata": {},
   "outputs": [],
   "source": []
  }
 ],
 "metadata": {
  "kernelspec": {
   "display_name": "Python 3 (ipykernel)",
   "language": "python",
   "name": "python3"
  },
  "language_info": {
   "codemirror_mode": {
    "name": "ipython",
    "version": 3
   },
   "file_extension": ".py",
   "mimetype": "text/x-python",
   "name": "python",
   "nbconvert_exporter": "python",
   "pygments_lexer": "ipython3",
   "version": "3.9.12"
  }
 },
 "nbformat": 4,
 "nbformat_minor": 5
}
